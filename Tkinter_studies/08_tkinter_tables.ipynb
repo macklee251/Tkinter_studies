{
 "cells": [
  {
   "cell_type": "code",
   "execution_count": 266,
   "metadata": {},
   "outputs": [],
   "source": [
    "import tkinter as tk\n",
    "from tkinter import ttk"
   ]
  },
  {
   "cell_type": "code",
   "execution_count": 267,
   "metadata": {},
   "outputs": [
    {
     "data": {
      "text/plain": [
       "''"
      ]
     },
     "execution_count": 267,
     "metadata": {},
     "output_type": "execute_result"
    }
   ],
   "source": [
    "window = tk.Tk()\n",
    "window.geometry(\"800x600\")\n",
    "window.title(\"Treeview\")"
   ]
  },
  {
   "cell_type": "code",
   "execution_count": 268,
   "metadata": {},
   "outputs": [
    {
     "name": "stdout",
     "output_type": "stream",
     "text": [
      "['AliceSmith', 'BobJohnson', 'CharlieWilliams', 'DavidJones', 'EveBrown', 'FrankDavis', 'GraceMiller', 'HenryWilson', 'IvyMoore', 'JackTaylor']\n"
     ]
    }
   ],
   "source": [
    "first_names = ['Alice', 'Bob', 'Charlie', 'David', 'Eve', 'Frank', 'Grace', 'Henry', 'Ivy', 'Jack']\n",
    "last_names = ['Smith', 'Johnson', 'Williams', 'Jones', 'Brown', 'Davis', 'Miller', 'Wilson', 'Moore', 'Taylor'] \n",
    "\n",
    "full_names = [first + last for first, last in zip(first_names, last_names)]\n",
    "print(full_names)\n"
   ]
  },
  {
   "cell_type": "markdown",
   "metadata": {},
   "source": [
    "### Creating a widget called treeview"
   ]
  },
  {
   "cell_type": "code",
   "execution_count": 269,
   "metadata": {},
   "outputs": [],
   "source": [
    "table = ttk.Treeview(master=window, columns=(\"first\", \"last\", \"email\"), show=\"headings\")\n",
    "table.heading('first', text= 'First name')\n",
    "table.heading('last', text= 'Surname')\n",
    "table.heading('email', text='Email')\n",
    "table.pack(fill='both', expand=True)"
   ]
  },
  {
   "cell_type": "markdown",
   "metadata": {},
   "source": [
    "### Inserting values in the table"
   ]
  },
  {
   "cell_type": "code",
   "execution_count": 270,
   "metadata": {},
   "outputs": [],
   "source": [
    "# When we put parent as '' we are saing that it is attached to this main table and not have any internediaries.\n",
    "full_list = list(zip(first_names, last_names, [first+last+'@gmail.com' for first, last in zip(first_names, last_names)]))\n",
    "for index in range(len(full_list)):\n",
    "    table.insert(parent='', index=index, values=full_list[index])"
   ]
  },
  {
   "cell_type": "code",
   "execution_count": 271,
   "metadata": {},
   "outputs": [
    {
     "data": {
      "text/plain": [
       "'I00B'"
      ]
     },
     "execution_count": 271,
     "metadata": {},
     "output_type": "execute_result"
    }
   ],
   "source": [
    "# Adding an element at the end of the list\n",
    "table.insert(parent='', index=tk.END, values=('xxxxxxxx', 'yyyyyyyy', 'zzzzzzzz'))"
   ]
  },
  {
   "cell_type": "markdown",
   "metadata": {},
   "source": [
    "### Select event"
   ]
  },
  {
   "cell_type": "code",
   "execution_count": 272,
   "metadata": {},
   "outputs": [
    {
     "data": {
      "text/plain": [
       "'4423094784item_select'"
      ]
     },
     "execution_count": 272,
     "metadata": {},
     "output_type": "execute_result"
    }
   ],
   "source": [
    "def item_select(_):\n",
    "    for i in table.selection():\n",
    "        print(table.item(i)['values'])\n",
    "table.bind('<<TreeviewSelect>>', item_select)"
   ]
  },
  {
   "cell_type": "markdown",
   "metadata": {},
   "source": [
    "### Delete event"
   ]
  },
  {
   "cell_type": "code",
   "execution_count": 273,
   "metadata": {},
   "outputs": [
    {
     "data": {
      "text/plain": [
       "'5682004032delete_items'"
      ]
     },
     "execution_count": 273,
     "metadata": {},
     "output_type": "execute_result"
    }
   ],
   "source": [
    "def delete_items(_):\n",
    "    for i in table.selection():\n",
    "        table.delete(i)\n",
    "table.bind('<Delete>', delete_items)"
   ]
  },
  {
   "cell_type": "code",
   "execution_count": 274,
   "metadata": {},
   "outputs": [
    {
     "name": "stdout",
     "output_type": "stream",
     "text": [
      "['Bob', 'Johnson', 'BobJohnson@gmail.com']\n",
      "['Frank', 'Davis', 'FrankDavis@gmail.com']\n",
      "['Frank', 'Davis', 'FrankDavis@gmail.com']\n",
      "['Grace', 'Miller', 'GraceMiller@gmail.com']\n",
      "['Henry', 'Wilson', 'HenryWilson@gmail.com']\n",
      "['Eve', 'Brown', 'EveBrown@gmail.com']\n",
      "['Jack', 'Taylor', 'JackTaylor@gmail.com']\n",
      "['Grace', 'Miller', 'GraceMiller@gmail.com']\n",
      "['Grace', 'Miller', 'GraceMiller@gmail.com']\n",
      "['Jack', 'Taylor', 'JackTaylor@gmail.com']\n",
      "['xxxxxxxx', 'yyyyyyyy', 'zzzzzzzz']\n",
      "['Ivy', 'Moore', 'IvyMoore@gmail.com']\n",
      "['Charlie', 'Williams', 'CharlieWilliams@gmail.com']\n",
      "['Alice', 'Smith', 'AliceSmith@gmail.com']\n"
     ]
    },
    {
     "ename": "",
     "evalue": "",
     "output_type": "error",
     "traceback": [
      "\u001b[1;31mThe Kernel crashed while executing code in the the current cell or a previous cell. Please review the code in the cell(s) to identify a possible cause of the failure. Click <a href='https://aka.ms/vscodeJupyterKernelCrash'>here</a> for more info. View Jupyter <a href='command:jupyter.viewOutput'>log</a> for further details."
     ]
    }
   ],
   "source": [
    "window.mainloop()"
   ]
  },
  {
   "cell_type": "code",
   "execution_count": null,
   "metadata": {},
   "outputs": [],
   "source": []
  }
 ],
 "metadata": {
  "kernelspec": {
   "display_name": "base",
   "language": "python",
   "name": "python3"
  },
  "language_info": {
   "codemirror_mode": {
    "name": "ipython",
    "version": 3
   },
   "file_extension": ".py",
   "mimetype": "text/x-python",
   "name": "python",
   "nbconvert_exporter": "python",
   "pygments_lexer": "ipython3",
   "version": "3.11.5"
  }
 },
 "nbformat": 4,
 "nbformat_minor": 2
}
