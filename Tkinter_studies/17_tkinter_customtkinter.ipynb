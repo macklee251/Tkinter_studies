{
 "cells": [
  {
   "cell_type": "markdown",
   "metadata": {},
   "source": [
    "[Video](https://www.youtube.com/watch?v=Miydkti_QVE), [Documentation](https://customtkinter.tomschimansky.com/)"
   ]
  },
  {
   "cell_type": "code",
   "execution_count": 100,
   "metadata": {},
   "outputs": [],
   "source": [
    "import tkinter as tk\n",
    "from tkinter import ttk\n",
    "from customtkinter import *"
   ]
  },
  {
   "cell_type": "code",
   "execution_count": 101,
   "metadata": {},
   "outputs": [],
   "source": [
    "app = CTk()\n",
    "app.geometry(\"800x600\")"
   ]
  },
  {
   "cell_type": "markdown",
   "metadata": {},
   "source": [
    "Button"
   ]
  },
  {
   "cell_type": "code",
   "execution_count": 81,
   "metadata": {},
   "outputs": [],
   "source": [
    "# btn = CTkButton(master=app, \n",
    "#                 text=\"click me\", \n",
    "#                 corner_radius=32, \n",
    "#                 fg_color = \"#c850c0\", \n",
    "#                 hover_color=\"#4157d0\", \n",
    "#                 border_width=2, \n",
    "#                 border_color=\"#000000\")\n",
    "# btn.place(relx=.5, rely=.5, anchor=\"center\")\n",
    "# # é possível até mesmo colocar uma foto no botão "
   ]
  },
  {
   "cell_type": "markdown",
   "metadata": {},
   "source": [
    "Label"
   ]
  },
  {
   "cell_type": "code",
   "execution_count": 82,
   "metadata": {},
   "outputs": [],
   "source": [
    "# label = CTkLabel(master=app, text=\"Hello World\", font=(\"Arial\", 24), text_color=\"#ffcc70\")\n",
    "# label.place(relx=.5, rely=.5, anchor=\"center\")"
   ]
  },
  {
   "cell_type": "markdown",
   "metadata": {},
   "source": [
    "Combox"
   ]
  },
  {
   "cell_type": "code",
   "execution_count": 83,
   "metadata": {},
   "outputs": [],
   "source": [
    "# combox = CTkComboBox(master=app, values=[\"item 1\", \"item 2\", \"item 3\"], fg_color=\"#0093e9\", bg_color=\"#4157d0\")\n",
    "# combox.place(relx=.5, rely=.5, anchor=\"center\")"
   ]
  },
  {
   "cell_type": "markdown",
   "metadata": {},
   "source": [
    "CheckBox"
   ]
  },
  {
   "cell_type": "code",
   "execution_count": 84,
   "metadata": {},
   "outputs": [],
   "source": [
    "# checkbox = CTkCheckBox(master=app, text=\"Check me\", fg_color=\"#0093e9\", checkbox_width=30)\n",
    "# checkbox.place(relx=.5, rely=.5, anchor=\"center\")"
   ]
  },
  {
   "cell_type": "markdown",
   "metadata": {},
   "source": [
    "Switch"
   ]
  },
  {
   "cell_type": "code",
   "execution_count": 85,
   "metadata": {},
   "outputs": [],
   "source": [
    "# switch = CTkSwitch(master=app, fg_color=\"#0093e9\")\n",
    "# switch.place(relx=.5, rely=.5, anchor=\"center\")"
   ]
  },
  {
   "cell_type": "markdown",
   "metadata": {},
   "source": [
    "Slider"
   ]
  },
  {
   "cell_type": "code",
   "execution_count": 86,
   "metadata": {},
   "outputs": [],
   "source": [
    "# slider = CTkSlider(master=app, from_=0, to=100, number_of_steps=5, fg_color=\"#0093e9\")\n",
    "# slider.place(relx=.5, rely=.5, anchor=\"center\")"
   ]
  },
  {
   "cell_type": "markdown",
   "metadata": {},
   "source": [
    "Entry"
   ]
  },
  {
   "cell_type": "code",
   "execution_count": 87,
   "metadata": {},
   "outputs": [],
   "source": [
    "# entry = CTkEntry(master=app, placeholder_text=\"Start typing...\", width=300, text_color=\"#ffcc70\")\n",
    "# entry.place(relx=.5, rely=.5, anchor=\"center\")"
   ]
  },
  {
   "cell_type": "markdown",
   "metadata": {},
   "source": [
    "Textbox"
   ]
  },
  {
   "cell_type": "code",
   "execution_count": 102,
   "metadata": {},
   "outputs": [],
   "source": [
    "textbox = CTkTextbox(master=app, scrollbar_button_color = \"#ffcc70\", corner_radius=16, border_width=2, border_color=\"#ffcc70\")\n",
    "textbox.place(relx=.5, rely=.5, anchor=\"center\")    "
   ]
  },
  {
   "cell_type": "code",
   "execution_count": 103,
   "metadata": {},
   "outputs": [
    {
     "name": "stderr",
     "output_type": "stream",
     "text": [
      "invalid command name \"4749131840<lambda>\"\n",
      "    while executing\n",
      "\"4749131840<lambda>\"\n",
      "    (\"after\" script)\n"
     ]
    },
    {
     "ename": "",
     "evalue": "",
     "output_type": "error",
     "traceback": [
      "\u001b[1;31mThe Kernel crashed while executing code in the current cell or a previous cell. \n",
      "\u001b[1;31mPlease review the code in the cell(s) to identify a possible cause of the failure. \n",
      "\u001b[1;31mClick <a href='https://aka.ms/vscodeJupyterKernelCrash'>here</a> for more info. \n",
      "\u001b[1;31mView Jupyter <a href='command:jupyter.viewOutput'>log</a> for further details."
     ]
    }
   ],
   "source": [
    "app.mainloop()"
   ]
  },
  {
   "cell_type": "code",
   "execution_count": null,
   "metadata": {},
   "outputs": [],
   "source": []
  }
 ],
 "metadata": {
  "kernelspec": {
   "display_name": "Python 3",
   "language": "python",
   "name": "python3"
  },
  "language_info": {
   "codemirror_mode": {
    "name": "ipython",
    "version": 3
   },
   "file_extension": ".py",
   "mimetype": "text/x-python",
   "name": "python",
   "nbconvert_exporter": "python",
   "pygments_lexer": "ipython3",
   "version": "3.10.12"
  }
 },
 "nbformat": 4,
 "nbformat_minor": 2
}
