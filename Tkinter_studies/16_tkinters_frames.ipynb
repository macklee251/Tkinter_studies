{
 "cells": [
  {
   "cell_type": "code",
   "execution_count": 10,
   "metadata": {},
   "outputs": [],
   "source": [
    "import tkinter as tk\n",
    "from tkinter import ttk\n",
    "from customtkinter import *"
   ]
  },
  {
   "cell_type": "markdown",
   "metadata": {},
   "source": [
    "<h1>Frame</h1>"
   ]
  },
  {
   "cell_type": "code",
   "execution_count": 14,
   "metadata": {},
   "outputs": [],
   "source": [
    "app = CTk()\n",
    "app.geometry(\"800x600\")\n",
    "\n",
    "frame = CTkFrame(master=app, fg_color=\"#8d6f3a\", border_color=\"#ffcc70\", border_width=2)\n",
    "frame.pack(expand=True)\n",
    "\n",
    "label = CTkLabel(master=frame, text=\"This is a frame\")\n",
    "entry = CTkEntry(frame, placeholder_text=\"Type something...\")\n",
    "btn = CTkButton(master=frame, text=\"Submit\")\n",
    "\n",
    "label.pack(anchor=\"s\", expand=True, pady=10, padx=30)\n",
    "entry.pack(anchor=\"s\", expand=True, pady=10, padx=130)\n",
    "btn.pack(anchor=\"s\", expand=True, pady=20, padx=30)\n",
    "\n",
    "app.mainloop()"
   ]
  },
  {
   "cell_type": "markdown",
   "metadata": {},
   "source": [
    "<h1>ScrollableFrame</h1>"
   ]
  },
  {
   "cell_type": "code",
   "execution_count": 16,
   "metadata": {},
   "outputs": [],
   "source": [
    "app = CTk()\n",
    "app.geometry(\"500x400\")\n",
    "\n",
    "\n",
    "frame = CTkScrollableFrame(master=app, fg_color=\"#8D6F3A\", border_color=\"#FFCC70\", border_width=2,\n",
    "                           orientation=\"vertical\", scrollbar_button_color=\"#FFCC70\")\n",
    "frame.pack(expand=True)\n",
    "\n",
    "label = CTkLabel(master=frame, text=\"This is a frame\")\n",
    "entry = CTkEntry(master=frame, placeholder_text=\"Type something...\")\n",
    "btn = CTkButton(master=frame, text=\"Submit\")\n",
    "\n",
    "\n",
    "label.pack(anchor=\"s\", expand=True, pady=10, padx=30)\n",
    "entry.pack(anchor=\"s\", expand=True, pady=10, padx=30)\n",
    "btn.pack(anchor=\"n\", expand=True, padx=30, pady=20)\n",
    "CTkButton(master=frame, text=\"Another Widget\").pack(expand=True, padx=30, pady=20)\n",
    "CTkButton(master=frame, text=\"Another Widget\").pack(expand=True, padx=30, pady=20)\n",
    "CTkButton(master=frame, text=\"Another Widget\").pack(expand=True, padx=30, pady=20)\n",
    "CTkButton(master=frame, text=\"Another Widget\").pack(expand=True, padx=30, pady=20)\n",
    "CTkButton(master=frame, text=\"Another Widget\").pack(expand=True, padx=30, pady=20)\n",
    "\n",
    "app.mainloop()"
   ]
  },
  {
   "cell_type": "markdown",
   "metadata": {},
   "source": [
    "<h1>Tabs</h1>"
   ]
  },
  {
   "cell_type": "code",
   "execution_count": 18,
   "metadata": {},
   "outputs": [],
   "source": [
    "app = CTk()\n",
    "app.geometry(\"500x400\")\n",
    "\n",
    "\n",
    "tabview = CTkTabview(master=app)\n",
    "tabview.pack(padx=20, pady=20)\n",
    "\n",
    "tabview.add(\"Tab 1\")\n",
    "tabview.add(\"Tab 2\")\n",
    "tabview.add(\"Tab 3\")\n",
    "\n",
    "label_1 = CTkLabel(master=tabview.tab(\"Tab 1\"), text=\"This is tab 1\")\n",
    "label_1.pack(padx=20, pady=20)\n",
    "\n",
    "label_2 = CTkLabel(master=tabview.tab(\"Tab 2\"), text=\"This is tab 2\")\n",
    "label_2.pack(padx=20, pady=20)\n",
    "\n",
    "label_3 = CTkLabel(master=tabview.tab(\"Tab 3\"), text=\"This is tab 3\")\n",
    "label_3.pack(padx=20, pady=20)\n",
    "\n",
    "app.mainloop()"
   ]
  },
  {
   "cell_type": "code",
   "execution_count": null,
   "metadata": {},
   "outputs": [],
   "source": []
  }
 ],
 "metadata": {
  "kernelspec": {
   "display_name": "Python 3",
   "language": "python",
   "name": "python3"
  },
  "language_info": {
   "codemirror_mode": {
    "name": "ipython",
    "version": 3
   },
   "file_extension": ".py",
   "mimetype": "text/x-python",
   "name": "python",
   "nbconvert_exporter": "python",
   "pygments_lexer": "ipython3",
   "version": "3.10.12"
  }
 },
 "nbformat": 4,
 "nbformat_minor": 2
}
