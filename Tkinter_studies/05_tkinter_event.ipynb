{
 "cells": [
  {
   "cell_type": "code",
   "execution_count": 162,
   "metadata": {},
   "outputs": [],
   "source": [
    "import tkinter as tk\n",
    "from tkinter import ttk"
   ]
  },
  {
   "cell_type": "markdown",
   "metadata": {},
   "source": [
    "<h5>\n",
    "    Events can be lots of things:\n",
    "    <ul>\n",
    "        <li> Keyboard inputs\n",
    "        <li> Widgets getting changed\n",
    "        <li> Widgets gets selected/unselected\n",
    "        <li> Mouse click / Motion / Wheel\n",
    "    </ul>\n",
    "</h5>"
   ]
  },
  {
   "cell_type": "code",
   "execution_count": 163,
   "metadata": {},
   "outputs": [
    {
     "data": {
      "text/plain": [
       "''"
      ]
     },
     "execution_count": 163,
     "metadata": {},
     "output_type": "execute_result"
    }
   ],
   "source": [
    "window = tk.Tk()\n",
    "window.geometry('600x500')\n",
    "window.title('Event Binding')"
   ]
  },
  {
   "cell_type": "code",
   "execution_count": 164,
   "metadata": {},
   "outputs": [],
   "source": [
    "text = tk.Text(window, width=40, height=10)\n",
    "text.pack()"
   ]
  },
  {
   "cell_type": "code",
   "execution_count": 165,
   "metadata": {},
   "outputs": [],
   "source": [
    "entry = tk.Entry(window, width=40)\n",
    "entry.pack()"
   ]
  },
  {
   "cell_type": "code",
   "execution_count": 166,
   "metadata": {},
   "outputs": [],
   "source": [
    "button = tk.Button(window, text='Click Me')\n",
    "button.pack()"
   ]
  },
  {
   "cell_type": "markdown",
   "metadata": {},
   "source": [
    "<h5>\n",
    "    Every event has <span style=\"color:#00ff80\">modifier-type-detail.</span>\n",
    "</h5>"
   ]
  },
  {
   "cell_type": "code",
   "execution_count": 167,
   "metadata": {},
   "outputs": [],
   "source": [
    "def get_pos(event):\n",
    "    print(f'x:{event.x} y: {event.y}')"
   ]
  },
  {
   "cell_type": "code",
   "execution_count": 168,
   "metadata": {},
   "outputs": [
    {
     "data": {
      "text/plain": [
       "'4463325056<lambda>'"
      ]
     },
     "execution_count": 168,
     "metadata": {},
     "output_type": "execute_result"
    }
   ],
   "source": [
    "window.bind('<KeyPress>', lambda event: print(f'the key {event.char} was pressed!'))\n",
    "entry.bind('<Control-KeyPress-a> ', lambda event: print('Control a was pressed!'))\n",
    "text.bind('<Motion>', get_pos)\n",
    "text.bind('<MouseWheel>', lambda event: print('Mouse wheel was scrolled!'))\n",
    "entry.bind('<FocusIn>', lambda event: print('entry is focused!'))\n",
    "entry.bind('<FocusOut>', lambda event: print('entry is unfocused!'))"
   ]
  },
  {
   "cell_type": "code",
   "execution_count": 169,
   "metadata": {},
   "outputs": [
    {
     "name": "stdout",
     "output_type": "stream",
     "text": [
      "x:82 y: 5\n",
      "x:83 y: 12\n",
      "x:83 y: 16\n",
      "x:84 y: 26\n",
      "x:84 y: 33\n",
      "x:83 y: 41\n",
      "x:85 y: 56\n",
      "x:87 y: 60\n",
      "x:90 y: 62\n",
      "x:90 y: 63\n",
      "x:91 y: 63\n",
      "x:91 y: 62\n",
      "x:90 y: 61\n",
      "x:89 y: 60\n",
      "x:87 y: 60\n",
      "x:83 y: 58\n",
      "x:81 y: 57\n",
      "x:76 y: 56\n",
      "x:75 y: 56\n",
      "x:73 y: 56\n",
      "x:72 y: 56\n",
      "x:73 y: 56\n",
      "x:73 y: 55\n",
      "Mouse wheel was scrolled!\n",
      "Mouse wheel was scrolled!\n",
      "x:74 y: 55\n",
      "x:74 y: 54\n",
      "Mouse wheel was scrolled!\n",
      "x:74 y: 53\n",
      "Mouse wheel was scrolled!\n",
      "x:74 y: 52\n",
      "x:69 y: 49\n",
      "x:59 y: 44\n",
      "x:40 y: 35\n",
      "x:7 y: 22\n"
     ]
    }
   ],
   "source": [
    "window.mainloop()"
   ]
  }
 ],
 "metadata": {
  "kernelspec": {
   "display_name": "base",
   "language": "python",
   "name": "python3"
  },
  "language_info": {
   "codemirror_mode": {
    "name": "ipython",
    "version": 3
   },
   "file_extension": ".py",
   "mimetype": "text/x-python",
   "name": "python",
   "nbconvert_exporter": "python",
   "pygments_lexer": "ipython3",
   "version": "3.11.5"
  }
 },
 "nbformat": 4,
 "nbformat_minor": 2
}
