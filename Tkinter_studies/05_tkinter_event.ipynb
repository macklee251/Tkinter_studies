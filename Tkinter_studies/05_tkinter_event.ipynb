{
 "cells": [
  {
   "cell_type": "code",
   "execution_count": 2,
   "metadata": {},
   "outputs": [],
   "source": [
    "import tkinter as tk\n",
    "from tkinter import ttk"
   ]
  },
  {
   "cell_type": "markdown",
   "metadata": {},
   "source": [
    "<h5>\n",
    "    Events can be lots of things:\n",
    "    <ul>\n",
    "        <li> Keyboard inputs\n",
    "        <li> Widgets getting changed\n",
    "        <li> Widgets gets selected/unselected\n",
    "        <li> Mouse click / Motion / Wheel\n",
    "    </ul>\n",
    "</h5>"
   ]
  },
  {
   "cell_type": "code",
   "execution_count": 3,
   "metadata": {},
   "outputs": [
    {
     "data": {
      "text/plain": [
       "''"
      ]
     },
     "execution_count": 3,
     "metadata": {},
     "output_type": "execute_result"
    }
   ],
   "source": [
    "window = tk.Tk()\n",
    "window.geometry('600x500')\n",
    "window.title('Event Binding')"
   ]
  },
  {
   "cell_type": "code",
   "execution_count": 4,
   "metadata": {},
   "outputs": [],
   "source": [
    "text = tk.Text(window, width=40, height=10)\n",
    "text.pack()"
   ]
  },
  {
   "cell_type": "code",
   "execution_count": 5,
   "metadata": {},
   "outputs": [],
   "source": [
    "entry = tk.Entry(window, width=40)\n",
    "entry.pack()"
   ]
  },
  {
   "cell_type": "code",
   "execution_count": 6,
   "metadata": {},
   "outputs": [],
   "source": [
    "button = tk.Button(window, text='Click Me')\n",
    "button.pack()"
   ]
  },
  {
   "cell_type": "markdown",
   "metadata": {},
   "source": [
    "<h5>\n",
    "    Every event has <span style=\"color:#00ff80\">modifier-type-detail.</span>\n",
    "</h5>"
   ]
  },
  {
   "cell_type": "code",
   "execution_count": 7,
   "metadata": {},
   "outputs": [],
   "source": [
    "def get_pos(event):\n",
    "    print(f'x:{event.x} y: {event.y}')"
   ]
  },
  {
   "cell_type": "code",
   "execution_count": 8,
   "metadata": {},
   "outputs": [
    {
     "data": {
      "text/plain": [
       "'4869609408<lambda>'"
      ]
     },
     "execution_count": 8,
     "metadata": {},
     "output_type": "execute_result"
    }
   ],
   "source": [
    "window.bind('<KeyPress>', lambda event: print(f'the key {event.char} was pressed!'))\n",
    "entry.bind('<Control-KeyPress-a> ', lambda event: print('Control a was pressed!'))\n",
    "text.bind('<Motion>', get_pos)\n",
    "text.bind('<MouseWheel>', lambda event: print('Mouse wheel was scrolled!'))\n",
    "entry.bind('<FocusIn>', lambda event: print('entry is focused!'))\n",
    "entry.bind('<FocusOut>', lambda event: print('entry is unfocused!'))"
   ]
  },
  {
   "cell_type": "code",
   "execution_count": 9,
   "metadata": {},
   "outputs": [
    {
     "name": "stdout",
     "output_type": "stream",
     "text": [
      "x:48 y: 98\n",
      "x:42 y: 90\n",
      "x:25 y: 71\n",
      "x:17 y: 59\n",
      "x:16 y: 56\n",
      "x:16 y: 57\n",
      "x:16 y: 58\n",
      "x:16 y: 59\n",
      "x:15 y: 59\n",
      "x:15 y: 60\n",
      "x:14 y: 60\n",
      "x:12 y: 60\n",
      "x:8 y: 60\n",
      "x:3 y: 60\n",
      "x:12 y: 91\n",
      "x:24 y: 104\n",
      "x:35 y: 118\n",
      "x:44 y: 131\n",
      "entry is focused!\n",
      "x:230 y: 135\n",
      "x:228 y: 134\n",
      "x:227 y: 133\n",
      "x:225 y: 131\n",
      "x:223 y: 130\n",
      "x:221 y: 129\n",
      "x:220 y: 128\n",
      "x:218 y: 127\n",
      "x:216 y: 126\n",
      "x:215 y: 125\n",
      "x:214 y: 124\n",
      "x:212 y: 122\n",
      "x:211 y: 121\n",
      "x:210 y: 118\n",
      "x:209 y: 116\n",
      "x:210 y: 120\n",
      "x:214 y: 130\n",
      "x:181 y: 135\n",
      "entry is unfocused!\n",
      "x:181 y: 136\n",
      "x:181 y: 137\n",
      "x:180 y: 137\n",
      "x:206 y: 134\n",
      "x:211 y: 131\n",
      "x:215 y: 129\n",
      "x:219 y: 127\n",
      "x:223 y: 125\n",
      "x:233 y: 123\n",
      "x:247 y: 121\n",
      "x:254 y: 121\n",
      "x:269 y: 121\n",
      "entry is focused!\n",
      "x:213 y: 118\n",
      "x:204 y: 110\n",
      "x:191 y: 99\n",
      "x:186 y: 94\n",
      "x:175 y: 84\n",
      "x:167 y: 76\n",
      "x:161 y: 69\n",
      "x:160 y: 67\n",
      "x:157 y: 63\n",
      "x:154 y: 59\n",
      "x:153 y: 55\n",
      "x:152 y: 50\n",
      "x:151 y: 50\n",
      "x:147 y: 50\n",
      "x:142 y: 50\n",
      "x:138 y: 51\n",
      "x:132 y: 52\n",
      "x:127 y: 54\n",
      "x:121 y: 54\n",
      "x:116 y: 55\n",
      "x:113 y: 55\n",
      "x:110 y: 55\n",
      "x:107 y: 55\n",
      "x:105 y: 55\n",
      "x:104 y: 55\n",
      "x:103 y: 55\n",
      "x:102 y: 54\n",
      "x:102 y: 59\n",
      "x:104 y: 63\n",
      "x:105 y: 65\n",
      "x:105 y: 66\n",
      "x:106 y: 67\n",
      "x:106 y: 68\n",
      "x:107 y: 69\n",
      "x:107 y: 70\n",
      "x:106 y: 70\n",
      "x:103 y: 70\n",
      "x:99 y: 70\n",
      "x:94 y: 70\n",
      "x:86 y: 69\n",
      "x:78 y: 67\n",
      "x:68 y: 63\n",
      "x:59 y: 59\n",
      "x:48 y: 54\n",
      "x:38 y: 48\n",
      "x:27 y: 44\n",
      "x:22 y: 40\n",
      "x:14 y: 35\n",
      "x:5 y: 30\n"
     ]
    }
   ],
   "source": [
    "window.mainloop()"
   ]
  },
  {
   "cell_type": "code",
   "execution_count": null,
   "metadata": {},
   "outputs": [],
   "source": []
  }
 ],
 "metadata": {
  "kernelspec": {
   "display_name": "base",
   "language": "python",
   "name": "python3"
  },
  "language_info": {
   "codemirror_mode": {
    "name": "ipython",
    "version": 3
   },
   "file_extension": ".py",
   "mimetype": "text/x-python",
   "name": "python",
   "nbconvert_exporter": "python",
   "pygments_lexer": "ipython3",
   "version": "3.10.12"
  }
 },
 "nbformat": 4,
 "nbformat_minor": 2
}
