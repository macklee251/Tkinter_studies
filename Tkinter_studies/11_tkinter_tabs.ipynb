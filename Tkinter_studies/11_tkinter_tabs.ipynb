{
 "cells": [
  {
   "cell_type": "code",
   "execution_count": 2,
   "metadata": {},
   "outputs": [],
   "source": [
    "import tkinter as tk\n",
    "from tkinter import ttk"
   ]
  },
  {
   "cell_type": "markdown",
   "metadata": {},
   "source": [
    "<h5><span style=\"color:rgb(64, 224, 208)\">ttk.Notebook</span> has a couple of children (which are frames). Each frame is one table.</h5>"
   ]
  },
  {
   "cell_type": "code",
   "execution_count": 3,
   "metadata": {},
   "outputs": [
    {
     "data": {
      "text/plain": [
       "''"
      ]
     },
     "execution_count": 3,
     "metadata": {},
     "output_type": "execute_result"
    }
   ],
   "source": [
    "window = tk.Tk()\n",
    "window.geometry(\"800x600\")\n",
    "window.title(\"Tabs\")"
   ]
  },
  {
   "cell_type": "code",
   "execution_count": 29,
   "metadata": {},
   "outputs": [],
   "source": [
    "notebook = ttk.Notebook(master = window)\n",
    "tab1 = ttk.Frame(notebook)\n",
    "tab1l1 = ttk.Label(master=tab1, text=\"Tab 1\")\n",
    "tab1l1.pack()\n",
    "button1 = ttk.Button(master=tab1) \n",
    "button1.pack()\n",
    "\n",
    "\n",
    "tab2 = ttk.Frame(notebook)\n",
    "tab1l2 = ttk.Label(master=tab2, text=\"Tab 2\")\n",
    "tab1l2.pack()\n",
    "entry2 = ttk.Entry(master=tab2, text=\"Entry in tab 2\")\n",
    "entry2.pack()\n",
    "\n",
    "notebook.add(tab1, text='Tab 1')\n",
    "notebook.add(tab2, text='Tab 2')\n",
    "notebook.pack()"
   ]
  },
  {
   "cell_type": "code",
   "execution_count": 30,
   "metadata": {},
   "outputs": [],
   "source": [
    "window.mainloop()"
   ]
  },
  {
   "cell_type": "code",
   "execution_count": null,
   "metadata": {},
   "outputs": [],
   "source": []
  }
 ],
 "metadata": {
  "kernelspec": {
   "display_name": "base",
   "language": "python",
   "name": "python3"
  },
  "language_info": {
   "codemirror_mode": {
    "name": "ipython",
    "version": 3
   },
   "file_extension": ".py",
   "mimetype": "text/x-python",
   "name": "python",
   "nbconvert_exporter": "python",
   "pygments_lexer": "ipython3",
   "version": "3.10.12"
  }
 },
 "nbformat": 4,
 "nbformat_minor": 2
}
