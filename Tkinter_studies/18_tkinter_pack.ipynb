{
 "cells": [
  {
   "cell_type": "code",
   "execution_count": 59,
   "metadata": {},
   "outputs": [],
   "source": [
    "import tkinter as tk \n",
    "from tkinter import ttk"
   ]
  },
  {
   "cell_type": "markdown",
   "metadata": {},
   "source": [
    "<h4>O parametro mais importante do Pack é o side, pois é ele que determina o lado no qual o widget vai ficar. side = \"left\", \"right\", \"top\", \"bottom\". Sendo que por padrão ele fica no top. Além desse parâmetro temos o expand que determina o espaço que o widget <u>pode</u> ocupar, Por padrão o expand fica em False. Temos também o fill que determina o espaço que o widget <u>vai</u> ocupar. fill=\"x\", \"y\", \"both\", \"None\", None é o padrão. Por fim temos o padx e o pady que cria um espaço ao redor do widget e o ipadx e o ipday que expande o próprio widget, como se fosse um padding mesmo.</h4>"
   ]
  },
  {
   "cell_type": "code",
   "execution_count": 60,
   "metadata": {},
   "outputs": [
    {
     "data": {
      "text/plain": [
       "''"
      ]
     },
     "execution_count": 60,
     "metadata": {},
     "output_type": "execute_result"
    }
   ],
   "source": [
    "window = tk.Tk()\n",
    "window.title(\"Layout\")\n",
    "window.geometry(\"800x600\")"
   ]
  },
  {
   "cell_type": "markdown",
   "metadata": {},
   "source": [
    "widgets"
   ]
  },
  {
   "cell_type": "code",
   "execution_count": 61,
   "metadata": {},
   "outputs": [],
   "source": [
    "label1 =  ttk.Label(master=window, text=\"Texto 1\", background=\"red\")\n",
    "label2 =  ttk.Label(master=window, text=\"Texto 2\", background=\"Blue\")\n",
    "label3 =  ttk.Label(master=window, text=\"Texto 3\", background=\"Green\")\n",
    "button = ttk.Button(master=window, text=\"Button\")"
   ]
  },
  {
   "cell_type": "markdown",
   "metadata": {},
   "source": [
    "layout"
   ]
  },
  {
   "cell_type": "code",
   "execution_count": 62,
   "metadata": {},
   "outputs": [],
   "source": [
    "label1.pack(side='left', expand=True,fill='both')\n",
    "label2.pack(side='top', expand=True, fill='both')\n",
    "label3.pack(side='top', expand=True, fill='both')\n",
    "button.pack(side='top', expand=True, fill='both')"
   ]
  },
  {
   "cell_type": "code",
   "execution_count": 63,
   "metadata": {},
   "outputs": [],
   "source": [
    "window.mainloop()\n"
   ]
  },
  {
   "cell_type": "code",
   "execution_count": null,
   "metadata": {},
   "outputs": [],
   "source": []
  }
 ],
 "metadata": {
  "kernelspec": {
   "display_name": "Python 3",
   "language": "python",
   "name": "python3"
  },
  "language_info": {
   "codemirror_mode": {
    "name": "ipython",
    "version": 3
   },
   "file_extension": ".py",
   "mimetype": "text/x-python",
   "name": "python",
   "nbconvert_exporter": "python",
   "pygments_lexer": "ipython3",
   "version": "3.10.12"
  }
 },
 "nbformat": 4,
 "nbformat_minor": 2
}
