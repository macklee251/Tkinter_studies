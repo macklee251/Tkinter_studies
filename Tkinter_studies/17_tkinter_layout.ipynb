{
 "cells": [
  {
   "cell_type": "code",
   "execution_count": 9,
   "metadata": {},
   "outputs": [],
   "source": [
    "import tkinter as tk\n",
    "from tkinter import ttk"
   ]
  },
  {
   "cell_type": "markdown",
   "metadata": {},
   "source": [
    "<h5>There is three ways to deal with layout in tkinter. The first one is using <span style=\"color:rgb(64, 224, 208)\">pack</span>, The other one is <span style=\"color:rgb(64, 224, 208)\">grid</span>, and we have too the <span style=\"color:rgb(64, 224, 208)\">place</span> method.</h5>\n",
    "<img src=\"/Users/macklee/Desktop/Computer science/Applications/GUIs_python/Tkinter/assets/img/Screenshot 2024-02-17 at 20.26.08.png\" width=\"800\">"
   ]
  },
  {
   "cell_type": "code",
   "execution_count": 114,
   "metadata": {},
   "outputs": [
    {
     "data": {
      "text/plain": [
       "''"
      ]
     },
     "execution_count": 114,
     "metadata": {},
     "output_type": "execute_result"
    }
   ],
   "source": [
    "window = tk.Tk()\n",
    "window.title(\"Layout intro\")\n",
    "window.geometry(\"800x600\")"
   ]
  },
  {
   "cell_type": "code",
   "execution_count": 115,
   "metadata": {},
   "outputs": [],
   "source": [
    "label1 = ttk.Label(window, text=\"Label 1\", background=\"red\")\n",
    "label2 = ttk.Label(window, text=\"Label 2\", background=\"blue\")"
   ]
  },
  {
   "cell_type": "code",
   "execution_count": 116,
   "metadata": {},
   "outputs": [],
   "source": [
    "# label1.pack(side='left', expand=True,)\n",
    "# label2.pack(side='right', expand=True, )"
   ]
  },
  {
   "cell_type": "code",
   "execution_count": 117,
   "metadata": {},
   "outputs": [],
   "source": [
    "# window.columnconfigure(0, weight=2)\n",
    "# window.columnconfigure(1, weight=1)\n",
    "# window.columnconfigure(2, weight=1)\n",
    "# window.rowconfigure(0, weight=1)\n",
    "# label1.grid(row=0, column=1, sticky='nsew') # nsew = north south east west (stretch in all directions)\n",
    "# label2.grid(row=0, column=2, columnspan=2, sticky='w')"
   ]
  },
  {
   "cell_type": "code",
   "execution_count": 118,
   "metadata": {},
   "outputs": [],
   "source": [
    "label1.place(x=100, y=100, anchor='center')\n",
    "label2.place(relx=0.5, rely=0.5, anchor='center')"
   ]
  },
  {
   "cell_type": "code",
   "execution_count": 119,
   "metadata": {},
   "outputs": [],
   "source": [
    "window.mainloop()"
   ]
  },
  {
   "cell_type": "code",
   "execution_count": null,
   "metadata": {},
   "outputs": [],
   "source": []
  }
 ],
 "metadata": {
  "kernelspec": {
   "display_name": "Python 3",
   "language": "python",
   "name": "python3"
  },
  "language_info": {
   "codemirror_mode": {
    "name": "ipython",
    "version": 3
   },
   "file_extension": ".py",
   "mimetype": "text/x-python",
   "name": "python",
   "nbconvert_exporter": "python",
   "pygments_lexer": "ipython3",
   "version": "3.10.12"
  }
 },
 "nbformat": 4,
 "nbformat_minor": 2
}
