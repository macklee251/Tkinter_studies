{
 "cells": [
  {
   "cell_type": "code",
   "execution_count": 31,
   "metadata": {},
   "outputs": [],
   "source": [
    "import tkinter as tkz\n",
    "from tkinter import ttk"
   ]
  },
  {
   "cell_type": "code",
   "execution_count": 32,
   "metadata": {},
   "outputs": [
    {
     "name": "stdout",
     "output_type": "stream",
     "text": [
      "610\n",
      "394\n"
     ]
    },
    {
     "data": {
      "text/plain": [
       "'4404148544<lambda>'"
      ]
     },
     "execution_count": 32,
     "metadata": {},
     "output_type": "execute_result"
    }
   ],
   "source": [
    "window = tk.Tk()\n",
    "window.geometry(\"800x600\")\n",
    "window.title(\"Windows\")\n",
    "window.iconbitmap('python.ico')\n",
    "window.minsize(400, 200)\n",
    "window.maxsize(1200, 800)\n",
    "# window.resizable(False, False)\n",
    "print(window.winfo_screenmmwidth())\n",
    "print(window.winfo_screenmmheight())\n",
    "window.attributes('-alpha', 0.9)\n",
    "window.attributes('-topmost', True)\n",
    "window.bind('<Escape>', lambda event: window.quit())"
   ]
  },
  {
   "cell_type": "code",
   "execution_count": 33,
   "metadata": {},
   "outputs": [],
   "source": [
    "window.mainloop()"
   ]
  },
  {
   "cell_type": "code",
   "execution_count": null,
   "metadata": {},
   "outputs": [],
   "source": []
  }
 ],
 "metadata": {
  "kernelspec": {
   "display_name": "base",
   "language": "python",
   "name": "python3"
  },
  "language_info": {
   "codemirror_mode": {
    "name": "ipython",
    "version": 3
   },
   "file_extension": ".py",
   "mimetype": "text/x-python",
   "name": "python",
   "nbconvert_exporter": "python",
   "pygments_lexer": "ipython3",
   "version": "3.11.5"
  }
 },
 "nbformat": 4,
 "nbformat_minor": 2
}
