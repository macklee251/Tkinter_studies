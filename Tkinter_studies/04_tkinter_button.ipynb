{
 "cells": [
  {
   "cell_type": "code",
   "execution_count": 54,
   "metadata": {},
   "outputs": [],
   "source": [
    "import tkinter as tk\n",
    "from tkinter import ttk"
   ]
  },
  {
   "cell_type": "markdown",
   "metadata": {},
   "source": [
    "<h5>\n",
    "    There are three major kinds of button\n",
    "    <ul>\n",
    "        <li> Button\n",
    "        <li> Checkbox\n",
    "        <li> RadioButton\n",
    "    </ul>\n",
    "</h5>"
   ]
  },
  {
   "cell_type": "code",
   "execution_count": 55,
   "metadata": {},
   "outputs": [
    {
     "data": {
      "text/plain": [
       "''"
      ]
     },
     "execution_count": 55,
     "metadata": {},
     "output_type": "execute_result"
    }
   ],
   "source": [
    "window = tk.Tk()\n",
    "window.title('Tkinter buttons')\n",
    "window.geometry('600x400')"
   ]
  },
  {
   "cell_type": "markdown",
   "metadata": {},
   "source": [
    "<h5>\n",
    "    Standard button\n",
    "</h5>"
   ]
  },
  {
   "cell_type": "code",
   "execution_count": 56,
   "metadata": {},
   "outputs": [],
   "source": [
    "def button_func():\n",
    "    print('Standard button')\n",
    "    print(radio_var.get())\n",
    "    button_string.set(\"New text\")\n",
    "    \n",
    "button_string = tk.StringVar(value='started value') # Define o texto que aparecerar no botão\n",
    "button = ttk.Button(master=window, \n",
    "                    text='simple button', # Define o texto que aparecear no botão caso não haja o \"textvariable\"\n",
    "                    textvariable=button_string,\n",
    "                    command=button_func)\n",
    "button.pack()"
   ]
  },
  {
   "cell_type": "markdown",
   "metadata": {},
   "source": [
    "<h5>\n",
    "    Check button\n",
    "</h5>"
   ]
  },
  {
   "cell_type": "code",
   "execution_count": 57,
   "metadata": {},
   "outputs": [],
   "source": [
    "check_var1 = tk.BooleanVar()\n",
    "check1 = ttk.Checkbutton(master=window, \n",
    "                         text='checkbox', # Define o texto que aparece junto com o botão\n",
    "                         variable=check_var1, # Esta é a variável que amarzena o estado do botão\n",
    "                         command=lambda:print(check_var1.get()))\n",
    "check1.pack()"
   ]
  },
  {
   "cell_type": "code",
   "execution_count": 58,
   "metadata": {},
   "outputs": [],
   "source": [
    "check_var2 = tk.IntVar(value=10)\n",
    "check2 = ttk.Checkbutton(master=window, \n",
    "                         text='checkbox', \n",
    "                         variable=check_var2, \n",
    "                         onvalue=10, \n",
    "                         offvalue=5,\n",
    "                         command=lambda:print(check_var2.get()))\n",
    "check2.pack()"
   ]
  },
  {
   "cell_type": "code",
   "execution_count": 59,
   "metadata": {},
   "outputs": [],
   "source": [
    "check3 = ttk.Checkbutton(master=window,\n",
    "                         text='checkbox',\n",
    "                         command=lambda:check_var2.set(5)) # Quando eu clicar nesse checkbox ele vai alterar o valor do checkbox de cima\n",
    "check3.pack()"
   ]
  },
  {
   "cell_type": "markdown",
   "metadata": {},
   "source": [
    "<h5>\n",
    "    Radio button\n",
    "</h5>"
   ]
  },
  {
   "cell_type": "code",
   "execution_count": 60,
   "metadata": {},
   "outputs": [],
   "source": [
    "radio_var = tk.StringVar()\n",
    "radio1 = ttk.Radiobutton(master=window, \n",
    "                         text=\"Radio button 1\", \n",
    "                         value=\"radio1\", # Quando os valores dos botões são iguais, quando vc clica em um vo clica automaticamente nos dois \n",
    "                         variable=radio_var, # Sempre que clicamos nele setamos o radio_var para o valore de valur que no caso é \"radio1\"\n",
    "                         command=lambda:print(radio_var.get()))\n",
    "radio1.pack()\n",
    "\n",
    "radio2 = ttk.Radiobutton(master=window, \n",
    "                         text=\"Radio button 2\", \n",
    "                         value=2, # Caso selecionarmos esse butão e clicarmos no standard button, ele vai exibir 2 ao inves de \"Radio button 1\"\n",
    "                         variable=radio_var) \n",
    "radio2.pack()"
   ]
  },
  {
   "cell_type": "code",
   "execution_count": 61,
   "metadata": {},
   "outputs": [
    {
     "name": "stdout",
     "output_type": "stream",
     "text": [
      "Standard button\n",
      "\n",
      "Standard button\n",
      "\n",
      "True\n",
      "5\n",
      "10\n",
      "5\n",
      "10\n",
      "radio1\n"
     ]
    }
   ],
   "source": [
    "window.mainloop()"
   ]
  },
  {
   "cell_type": "code",
   "execution_count": null,
   "metadata": {},
   "outputs": [],
   "source": []
  }
 ],
 "metadata": {
  "kernelspec": {
   "display_name": "base",
   "language": "python",
   "name": "python3"
  },
  "language_info": {
   "codemirror_mode": {
    "name": "ipython",
    "version": 3
   },
   "file_extension": ".py",
   "mimetype": "text/x-python",
   "name": "python",
   "nbconvert_exporter": "python",
   "pygments_lexer": "ipython3",
   "version": "3.11.5"
  }
 },
 "nbformat": 4,
 "nbformat_minor": 2
}
