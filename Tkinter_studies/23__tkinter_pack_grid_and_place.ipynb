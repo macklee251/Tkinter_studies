{
 "cells": [
  {
   "cell_type": "code",
   "execution_count": 120,
   "metadata": {},
   "outputs": [],
   "source": [
    "import tkinter as tk \n",
    "from tkinter import ttk"
   ]
  },
  {
   "cell_type": "code",
   "execution_count": 121,
   "metadata": {},
   "outputs": [
    {
     "data": {
      "text/plain": [
       "''"
      ]
     },
     "execution_count": 121,
     "metadata": {},
     "output_type": "execute_result"
    }
   ],
   "source": [
    "window = tk.Tk()\n",
    "window.geometry('800x600')\n",
    "window.title(\"pack, grid and place\")\n",
    "window.minsize(600,600)"
   ]
  },
  {
   "cell_type": "markdown",
   "metadata": {},
   "source": [
    "Criando os widgets"
   ]
  },
  {
   "cell_type": "code",
   "execution_count": 122,
   "metadata": {},
   "outputs": [],
   "source": [
    "frame1 = tk.Frame(master=window)\n",
    "frame2 = tk.Frame(master=window)\n",
    "label1_frame2 = tk.Label(master=frame2, text=\"frame 1\")\n",
    "label2_frame2 = tk.Label(master=frame2, text=\"frame 2\")\n",
    "button1_frame1 = tk.Button(master=frame1, text=\"Button 1\")\n",
    "button2_frame1 = tk.Button(master=frame1, text=\"Button 2\")\n",
    "button3_frame1 = tk.Button(master=frame1, text=\"Button 3\")\n",
    "button1_frame2 = tk.Button(master=frame2, text=\"Button 1\")\n",
    "button2_frame2 = tk.Button(master=frame2, text=\"Button 2\")\n"
   ]
  },
  {
   "cell_type": "markdown",
   "metadata": {},
   "source": [
    "Criando o grid que vai conter os frames"
   ]
  },
  {
   "cell_type": "code",
   "execution_count": 123,
   "metadata": {},
   "outputs": [],
   "source": [
    "window.columnconfigure(0, weight=2)\n",
    "window.columnconfigure(1, weight=3)\n",
    "window.rowconfigure(0, weight=1)"
   ]
  },
  {
   "cell_type": "markdown",
   "metadata": {},
   "source": [
    "Criando o grid que ficará no frame2"
   ]
  },
  {
   "cell_type": "code",
   "execution_count": 124,
   "metadata": {},
   "outputs": [],
   "source": [
    "frame2.columnconfigure(0, weight=1)\n",
    "frame2.columnconfigure(1, weight=1)\n",
    "frame2.rowconfigure(0, weight=1)\n",
    "frame2.rowconfigure(1, weight=1)"
   ]
  },
  {
   "cell_type": "markdown",
   "metadata": {},
   "source": [
    "Colocando os frames "
   ]
  },
  {
   "cell_type": "code",
   "execution_count": 125,
   "metadata": {},
   "outputs": [],
   "source": [
    "frame1.grid(row=0, column=0, sticky=\"nsew\")\n",
    "frame2.grid(row=0, column=1, sticky=\"nsew\")"
   ]
  },
  {
   "cell_type": "markdown",
   "metadata": {},
   "source": [
    "Colocando os widgets no frame2"
   ]
  },
  {
   "cell_type": "code",
   "execution_count": 126,
   "metadata": {},
   "outputs": [],
   "source": [
    "label1_frame2.grid(row=0, column=0, sticky=\"nsew\",)\n",
    "label2_frame2.grid(row=0, column=1, sticky=\"nsew\")\n",
    "button1_frame2.grid(row=1, column=0, sticky=\"nsew\")\n",
    "button2_frame2.grid(row=1, column=1, sticky=\"nsew\")"
   ]
  },
  {
   "cell_type": "code",
   "execution_count": 127,
   "metadata": {},
   "outputs": [],
   "source": [
    "window.mainloop()"
   ]
  },
  {
   "cell_type": "code",
   "execution_count": null,
   "metadata": {},
   "outputs": [],
   "source": []
  }
 ],
 "metadata": {
  "kernelspec": {
   "display_name": "Python 3",
   "language": "python",
   "name": "python3"
  },
  "language_info": {
   "codemirror_mode": {
    "name": "ipython",
    "version": 3
   },
   "file_extension": ".py",
   "mimetype": "text/x-python",
   "name": "python",
   "nbconvert_exporter": "python",
   "pygments_lexer": "ipython3",
   "version": "3.11.7"
  }
 },
 "nbformat": 4,
 "nbformat_minor": 2
}
