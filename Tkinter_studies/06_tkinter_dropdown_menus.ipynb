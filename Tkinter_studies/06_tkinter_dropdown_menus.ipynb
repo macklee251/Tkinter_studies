{
 "cells": [
  {
   "cell_type": "code",
   "execution_count": 93,
   "metadata": {},
   "outputs": [],
   "source": [
    "import tkinter as tk\n",
    "from tkinter import ttk"
   ]
  },
  {
   "cell_type": "markdown",
   "metadata": {},
   "source": [
    "<h5>\n",
    "    Combobox and Spinbox\n",
    "</h5>"
   ]
  },
  {
   "cell_type": "code",
   "execution_count": 94,
   "metadata": {},
   "outputs": [
    {
     "data": {
      "text/plain": [
       "''"
      ]
     },
     "execution_count": 94,
     "metadata": {},
     "output_type": "execute_result"
    }
   ],
   "source": [
    "window = tk.Tk()\n",
    "window.geometry(\"600x400\")\n",
    "window.title('Combo and Spin')"
   ]
  },
  {
   "cell_type": "code",
   "execution_count": 95,
   "metadata": {},
   "outputs": [
    {
     "data": {
      "text/plain": [
       "'5335772672<lambda>'"
      ]
     },
     "execution_count": 95,
     "metadata": {},
     "output_type": "execute_result"
    }
   ],
   "source": [
    "items = ['Python', 'julia', 'C++', 'Java', 'C#']\n",
    "language_string = tk.StringVar(value=items[0])\n",
    "combo = ttk.Combobox(master=window, textvariable=language_string)\n",
    "combo['values'] = items\n",
    "combo.pack()\n",
    "combo.bind('<<ComboboxSelected>>', lambda event: combo_label.config(text = f' Selected value: {language_string.get()}'))"
   ]
  },
  {
   "cell_type": "code",
   "execution_count": 96,
   "metadata": {},
   "outputs": [],
   "source": [
    "combo_label = ttk.Label(master=window, text='a label')\n",
    "combo_label.pack()"
   ]
  },
  {
   "cell_type": "code",
   "execution_count": 97,
   "metadata": {},
   "outputs": [],
   "source": [
    "spin_int = tk.IntVar(value=0)\n",
    "spin = ttk.Spinbox(master=window, \n",
    "                   from_ = 0, \n",
    "                   to = 10, \n",
    "                   increment=2, \n",
    "                   wrap = True, \n",
    "                   textvariable=spin_int, \n",
    "                   command=lambda: print(spin_int.get()))\n",
    "# spin['values'] = [*range(0,11)]\n",
    "spin.bind('<<Increment>>', lambda event: print(\"Up\"))\n",
    "spin.bind('<<Decrement>>', lambda event: print(\"Down\"))\n",
    "spin.pack()"
   ]
  },
  {
   "cell_type": "code",
   "execution_count": 98,
   "metadata": {},
   "outputs": [
    {
     "name": "stdout",
     "output_type": "stream",
     "text": [
      "Up\n",
      "2\n",
      "Up\n",
      "4\n",
      "Up\n",
      "6\n",
      "Down\n",
      "4\n"
     ]
    },
    {
     "ename": "",
     "evalue": "",
     "output_type": "error",
     "traceback": [
      "\u001b[1;31mThe Kernel crashed while executing code in the the current cell or a previous cell. Please review the code in the cell(s) to identify a possible cause of the failure. Click <a href='https://aka.ms/vscodeJupyterKernelCrash'>here</a> for more info. View Jupyter <a href='command:jupyter.viewOutput'>log</a> for further details."
     ]
    }
   ],
   "source": [
    "window.mainloop()"
   ]
  },
  {
   "cell_type": "code",
   "execution_count": null,
   "metadata": {},
   "outputs": [],
   "source": []
  }
 ],
 "metadata": {
  "kernelspec": {
   "display_name": "base",
   "language": "python",
   "name": "python3"
  },
  "language_info": {
   "codemirror_mode": {
    "name": "ipython",
    "version": 3
   },
   "file_extension": ".py",
   "mimetype": "text/x-python",
   "name": "python",
   "nbconvert_exporter": "python",
   "pygments_lexer": "ipython3",
   "version": "3.11.5"
  }
 },
 "nbformat": 4,
 "nbformat_minor": 2
}
