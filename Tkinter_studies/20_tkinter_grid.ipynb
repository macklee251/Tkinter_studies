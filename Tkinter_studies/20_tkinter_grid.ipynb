{
 "cells": [
  {
   "cell_type": "code",
   "execution_count": 2,
   "metadata": {},
   "outputs": [],
   "source": [
    "import tkinter as tk \n",
    "from tkinter import ttk"
   ]
  },
  {
   "cell_type": "markdown",
   "metadata": {},
   "source": [
    "<h3>\n",
    "Like wich pack, the grid only determines how much space a widget can occupy. Sticky determines what are will be filled.\n",
    "</h3>"
   ]
  },
  {
   "cell_type": "code",
   "execution_count": 3,
   "metadata": {},
   "outputs": [
    {
     "data": {
      "text/plain": [
       "''"
      ]
     },
     "execution_count": 3,
     "metadata": {},
     "output_type": "execute_result"
    }
   ],
   "source": [
    "window = tk.Tk()\n",
    "window.title(\"Grid\")\n",
    "window.geometry(\"600x400\")"
   ]
  },
  {
   "cell_type": "markdown",
   "metadata": {},
   "source": [
    "widgets"
   ]
  },
  {
   "cell_type": "code",
   "execution_count": 4,
   "metadata": {},
   "outputs": [],
   "source": [
    "label1 = ttk.Label(window, text=\"Label 1\")\n",
    "label2 = ttk.Label(window, text=\"Label 2\")\n",
    "label3 = ttk.Label(window, text=\"Label 3\")\n",
    "label4 = ttk.Label(window, text=\"Label 4\")\n",
    "button1 = ttk.Button(window, text=\"Button 1\")\n",
    "button2 = ttk.Button(window, text=\"Button 2\")\n",
    "entry = ttk.Entry(window) "
   ]
  },
  {
   "cell_type": "markdown",
   "metadata": {},
   "source": [
    "Define a grid"
   ]
  },
  {
   "cell_type": "code",
   "execution_count": 5,
   "metadata": {},
   "outputs": [],
   "source": [
    "window.columnconfigure(0, weight=1)\n",
    "window.columnconfigure(1, weight=1)\n",
    "window.rowconfigure(0, weight=1)\n",
    "window.rowconfigure(1, weight=1)"
   ]
  },
  {
   "cell_type": "code",
   "execution_count": 6,
   "metadata": {},
   "outputs": [],
   "source": [
    "label1.grid(row=0, column=0)\n",
    "label2.grid(row=0, column=1)\n",
    "label3.grid(row=1, column=0)\n",
    "label4.grid(row=1, column=1)"
   ]
  },
  {
   "cell_type": "code",
   "execution_count": 25,
   "metadata": {},
   "outputs": [],
   "source": [
    "window.mainloop()"
   ]
  },
  {
   "cell_type": "code",
   "execution_count": null,
   "metadata": {},
   "outputs": [],
   "source": []
  }
 ],
 "metadata": {
  "kernelspec": {
   "display_name": "base",
   "language": "python",
   "name": "python3"
  },
  "language_info": {
   "codemirror_mode": {
    "name": "ipython",
    "version": 3
   },
   "file_extension": ".py",
   "mimetype": "text/x-python",
   "name": "python",
   "nbconvert_exporter": "python",
   "pygments_lexer": "ipython3",
   "version": "3.10.12"
  }
 },
 "nbformat": 4,
 "nbformat_minor": 2
}
