{
 "cells": [
  {
   "cell_type": "code",
   "execution_count": 20,
   "metadata": {},
   "outputs": [],
   "source": [
    "import tkinter as tk \n",
    "from tkinter import ttk"
   ]
  },
  {
   "cell_type": "markdown",
   "metadata": {},
   "source": [
    "<h3>\n",
    "Like wich pack, the grid only determines how much space a widget can occupy. Sticky determines what are will be filled.\n",
    "</h3>"
   ]
  },
  {
   "cell_type": "code",
   "execution_count": 21,
   "metadata": {},
   "outputs": [
    {
     "data": {
      "text/plain": [
       "''"
      ]
     },
     "execution_count": 21,
     "metadata": {},
     "output_type": "execute_result"
    }
   ],
   "source": [
    "window = tk.Tk()\n",
    "window.title(\"Grid\")\n",
    "window.geometry(\"600x400\")"
   ]
  },
  {
   "cell_type": "markdown",
   "metadata": {},
   "source": [
    "widgets"
   ]
  },
  {
   "cell_type": "code",
   "execution_count": 22,
   "metadata": {},
   "outputs": [],
   "source": [
    "label1 = ttk.Label(window, text=\"Label 1\")\n",
    "label2 = ttk.Label(window, text=\"Label 2\")\n",
    "label3 = ttk.Label(window, text=\"Label 3\")\n",
    "label4 = ttk.Label(window, text=\"Label 4\")\n",
    "button1 = ttk.Button(window, text=\"Button 1\")\n",
    "button2 = ttk.Button(window, text=\"Button 2\")\n",
    "entry = ttk.Entry(window) "
   ]
  },
  {
   "cell_type": "markdown",
   "metadata": {},
   "source": [
    "Define a grid"
   ]
  },
  {
   "cell_type": "code",
   "execution_count": 23,
   "metadata": {},
   "outputs": [],
   "source": [
    "window.columnconfigure(0, weight=1)\n",
    "window.columnconfigure(1, weight=1)\n",
    "window.rowconfigure(0, weight=1)\n",
    "window.rowconfigure(1, weight=1)"
   ]
  },
  {
   "cell_type": "code",
   "execution_count": 24,
   "metadata": {},
   "outputs": [
    {
     "ename": "TclError",
     "evalue": "bad columnspan value \"-2\": must be a positive integer",
     "output_type": "error",
     "traceback": [
      "\u001b[0;31m---------------------------------------------------------------------------\u001b[0m",
      "\u001b[0;31mTclError\u001b[0m                                  Traceback (most recent call last)",
      "Cell \u001b[0;32mIn[24], line 2\u001b[0m\n\u001b[1;32m      1\u001b[0m label1\u001b[38;5;241m.\u001b[39mgrid(row\u001b[38;5;241m=\u001b[39m\u001b[38;5;241m0\u001b[39m, column\u001b[38;5;241m=\u001b[39m\u001b[38;5;241m0\u001b[39m)\n\u001b[0;32m----> 2\u001b[0m \u001b[43mlabel2\u001b[49m\u001b[38;5;241;43m.\u001b[39;49m\u001b[43mgrid\u001b[49m\u001b[43m(\u001b[49m\u001b[43mrow\u001b[49m\u001b[38;5;241;43m=\u001b[39;49m\u001b[38;5;241;43m0\u001b[39;49m\u001b[43m,\u001b[49m\u001b[43m \u001b[49m\u001b[43mcolumn\u001b[49m\u001b[38;5;241;43m=\u001b[39;49m\u001b[38;5;241;43m1\u001b[39;49m\u001b[43m,\u001b[49m\u001b[43m \u001b[49m\u001b[43mcolumnspan\u001b[49m\u001b[38;5;241;43m=\u001b[39;49m\u001b[38;5;241;43m-\u001b[39;49m\u001b[38;5;241;43m2\u001b[39;49m\u001b[43m)\u001b[49m\n\u001b[1;32m      3\u001b[0m label3\u001b[38;5;241m.\u001b[39mgrid(row\u001b[38;5;241m=\u001b[39m\u001b[38;5;241m1\u001b[39m, column\u001b[38;5;241m=\u001b[39m\u001b[38;5;241m0\u001b[39m)\n\u001b[1;32m      4\u001b[0m label4\u001b[38;5;241m.\u001b[39mgrid(row\u001b[38;5;241m=\u001b[39m\u001b[38;5;241m1\u001b[39m, column\u001b[38;5;241m=\u001b[39m\u001b[38;5;241m1\u001b[39m)\n",
      "File \u001b[0;32m~/.julia/conda/3/aarch64/lib/python3.10/tkinter/__init__.py:2522\u001b[0m, in \u001b[0;36mGrid.grid_configure\u001b[0;34m(self, cnf, **kw)\u001b[0m\n\u001b[1;32m   2507\u001b[0m \u001b[38;5;28;01mdef\u001b[39;00m \u001b[38;5;21mgrid_configure\u001b[39m(\u001b[38;5;28mself\u001b[39m, cnf\u001b[38;5;241m=\u001b[39m{}, \u001b[38;5;241m*\u001b[39m\u001b[38;5;241m*\u001b[39mkw):\n\u001b[1;32m   2508\u001b[0m \u001b[38;5;250m    \u001b[39m\u001b[38;5;124;03m\"\"\"Position a widget in the parent widget in a grid. Use as options:\u001b[39;00m\n\u001b[1;32m   2509\u001b[0m \u001b[38;5;124;03m    column=number - use cell identified with given column (starting with 0)\u001b[39;00m\n\u001b[1;32m   2510\u001b[0m \u001b[38;5;124;03m    columnspan=number - this widget will span several columns\u001b[39;00m\n\u001b[0;32m   (...)\u001b[0m\n\u001b[1;32m   2520\u001b[0m \u001b[38;5;124;03m                  widget stick to the cell boundary\u001b[39;00m\n\u001b[1;32m   2521\u001b[0m \u001b[38;5;124;03m    \"\"\"\u001b[39;00m\n\u001b[0;32m-> 2522\u001b[0m     \u001b[38;5;28;43mself\u001b[39;49m\u001b[38;5;241;43m.\u001b[39;49m\u001b[43mtk\u001b[49m\u001b[38;5;241;43m.\u001b[39;49m\u001b[43mcall\u001b[49m\u001b[43m(\u001b[49m\n\u001b[1;32m   2523\u001b[0m \u001b[43m          \u001b[49m\u001b[43m(\u001b[49m\u001b[38;5;124;43m'\u001b[39;49m\u001b[38;5;124;43mgrid\u001b[39;49m\u001b[38;5;124;43m'\u001b[39;49m\u001b[43m,\u001b[49m\u001b[43m \u001b[49m\u001b[38;5;124;43m'\u001b[39;49m\u001b[38;5;124;43mconfigure\u001b[39;49m\u001b[38;5;124;43m'\u001b[39;49m\u001b[43m,\u001b[49m\u001b[43m \u001b[49m\u001b[38;5;28;43mself\u001b[39;49m\u001b[38;5;241;43m.\u001b[39;49m\u001b[43m_w\u001b[49m\u001b[43m)\u001b[49m\n\u001b[1;32m   2524\u001b[0m \u001b[43m          \u001b[49m\u001b[38;5;241;43m+\u001b[39;49m\u001b[43m \u001b[49m\u001b[38;5;28;43mself\u001b[39;49m\u001b[38;5;241;43m.\u001b[39;49m\u001b[43m_options\u001b[49m\u001b[43m(\u001b[49m\u001b[43mcnf\u001b[49m\u001b[43m,\u001b[49m\u001b[43m \u001b[49m\u001b[43mkw\u001b[49m\u001b[43m)\u001b[49m\u001b[43m)\u001b[49m\n",
      "\u001b[0;31mTclError\u001b[0m: bad columnspan value \"-2\": must be a positive integer"
     ]
    }
   ],
   "source": [
    "label1.grid(row=0, column=0)\n",
    "label2.grid(row=0, column=1)\n",
    "label3.grid(row=1, column=0)\n",
    "label4.grid(row=1, column=1)"
   ]
  },
  {
   "cell_type": "code",
   "execution_count": 25,
   "metadata": {},
   "outputs": [],
   "source": [
    "window.mainloop()"
   ]
  },
  {
   "cell_type": "code",
   "execution_count": null,
   "metadata": {},
   "outputs": [],
   "source": []
  }
 ],
 "metadata": {
  "kernelspec": {
   "display_name": "base",
   "language": "python",
   "name": "python3"
  },
  "language_info": {
   "codemirror_mode": {
    "name": "ipython",
    "version": 3
   },
   "file_extension": ".py",
   "mimetype": "text/x-python",
   "name": "python",
   "nbconvert_exporter": "python",
   "pygments_lexer": "ipython3",
   "version": "3.10.12"
  }
 },
 "nbformat": 4,
 "nbformat_minor": 2
}
