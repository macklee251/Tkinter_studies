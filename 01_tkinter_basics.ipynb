{
 "cells": [
  {
   "cell_type": "code",
   "execution_count": 34,
   "metadata": {},
   "outputs": [],
   "source": [
    "import tkinter as tk\n",
    "from tkinter import ttk"
   ]
  },
  {
   "cell_type": "markdown",
   "metadata": {},
   "source": [
    "cores:\n",
    "<ul>\n",
    "    <li>rgb(255, 127, 80)</li>\n",
    "    <li>rgb(64, 224, 208)</li>\n",
    "    <li>rgb(152, 255, 152)</li>\n",
    "    <li>rgb(255, 182, 193)</li>\n",
    "</ul>"
   ]
  },
  {
   "cell_type": "markdown",
   "metadata": {},
   "source": [
    "<h2> Creating a basic window with some widgets </h2>"
   ]
  },
  {
   "cell_type": "markdown",
   "metadata": {},
   "source": [
    "Widgets: text, buttons, checkboxes, menus, frames, ect.\n",
    "\n",
    "Tkinter has two kinds of widgets: <span style=\"color:rgb(64, 224, 208)\">tk widgets</span> and <span style=\"color:rgb(64, 224, 208)\">ttk widgets</span>, the first one is the orinial ones; the second one was added later on (those are much more modern), we use ttk widgets more."
   ]
  },
  {
   "cell_type": "code",
   "execution_count": 35,
   "metadata": {},
   "outputs": [
    {
     "data": {
      "text/plain": [
       "''"
      ]
     },
     "execution_count": 35,
     "metadata": {},
     "output_type": "execute_result"
    }
   ],
   "source": [
    "# Creading a window\n",
    "window = tk.Tk()\n",
    "window.title(\"Window and widgets\")\n",
    "window.geometry(\"800x500\")"
   ]
  },
  {
   "cell_type": "markdown",
   "metadata": {},
   "source": [
    "Creating a multi-line text input. We need to specify a parent, the <span style=\"color:rgb(64, 224, 208)\">master</span>, it is usually the window.\n",
    "\n",
    "The <span style=\"color:rgb(64, 224, 208)\">pack</span> method place the object in a visual manner, it put the element in the middle and the to of the window"
   ]
  },
  {
   "cell_type": "code",
   "execution_count": 36,
   "metadata": {},
   "outputs": [],
   "source": [
    "# tk text\n",
    "text = tk.Text(master=window)\n",
    "text.pack()"
   ]
  },
  {
   "cell_type": "markdown",
   "metadata": {},
   "source": [
    "Creating a label"
   ]
  },
  {
   "cell_type": "code",
   "execution_count": 37,
   "metadata": {},
   "outputs": [],
   "source": [
    "# ttk label\n",
    "label = ttk.Label(master=window, text='This is a text')\n",
    "label.pack()"
   ]
  },
  {
   "cell_type": "markdown",
   "metadata": {},
   "source": [
    "Creating a entry"
   ]
  },
  {
   "cell_type": "code",
   "execution_count": 38,
   "metadata": {},
   "outputs": [],
   "source": [
    "# ttk entry\n",
    "entry = ttk.Entry(master=window)\n",
    "entry.pack() "
   ]
  },
  {
   "cell_type": "markdown",
   "metadata": {},
   "source": [
    "Creating a ttk button. The <span style=\"color:rgb(64, 224, 208)\">command</span> parameter is responsable to call a function."
   ]
  },
  {
   "cell_type": "code",
   "execution_count": 39,
   "metadata": {},
   "outputs": [],
   "source": [
    "def button_function():\n",
    "    return None"
   ]
  },
  {
   "cell_type": "code",
   "execution_count": 40,
   "metadata": {},
   "outputs": [],
   "source": [
    "button = ttk.Button(master=window, text='a button', command=button_function)\n",
    "button.pack()"
   ]
  },
  {
   "cell_type": "markdown",
   "metadata": {},
   "source": [
    "<h3>The <span style=\"color:rgb(255, 127, 80)\">mainloop</span> has two functionality</h3>\n",
    "<ul>\n",
    "    <li>It updates the GUI</li>\n",
    "    <li>and it checks for events (button clicks, mouse movement, closing window)</li>\n",
    "</ul>\n"
   ]
  },
  {
   "cell_type": "code",
   "execution_count": 41,
   "metadata": {},
   "outputs": [],
   "source": [
    "# Run \n",
    "window.mainloop()"
   ]
  },
  {
   "cell_type": "code",
   "execution_count": null,
   "metadata": {},
   "outputs": [],
   "source": []
  }
 ],
 "metadata": {
  "kernelspec": {
   "display_name": "base",
   "language": "python",
   "name": "python3"
  },
  "language_info": {
   "codemirror_mode": {
    "name": "ipython",
    "version": 3
   },
   "file_extension": ".py",
   "mimetype": "text/x-python",
   "name": "python",
   "nbconvert_exporter": "python",
   "pygments_lexer": "ipython3",
   "version": "3.11.5"
  }
 },
 "nbformat": 4,
 "nbformat_minor": 2
}
